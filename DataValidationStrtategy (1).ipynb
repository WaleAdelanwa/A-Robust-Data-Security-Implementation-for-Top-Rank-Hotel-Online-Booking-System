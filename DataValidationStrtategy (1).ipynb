{
 "cells": [
  {
   "cell_type": "markdown",
   "id": "d164a1fb",
   "metadata": {},
   "source": [
    "### Task Description\n",
    "\n",
    "You are required to implement Python scripts to demonstrate the usage of the\n",
    "following activities.\n",
    "\n",
    "1.1. Assuming that a user enters a password e.g. Test1234, apply a password validation for a user input to login.\n",
    "o The password should include capital and lowercase letters, a number and 8 to 12 characters.\n",
    "o The password should have at least 2 capital or lowercase letters\n",
    "o The password should not include any spaces\n",
    "o You can use any predefined Python library or develop your scripts from scratch.\n",
    "\n",
    "### 1.2. Assuming that a user enters a username e.g. admin and a password\n",
    "Test1234, apply a password encryption and decryption strategy.\n",
    "o Demonstrate an encryption-decryption use case for user name and password.\n",
    "o Demonstrate an example of successful and unsuccessful login using any data input that you prefer.\n",
    "\n",
    "### 1.3. Implement a multifactor authentication case using Python.\n",
    "\n",
    "o Demonstrate the use of a multifactor authentication case in Python. For this example you will need to change the period interval to 25 seconds.\n",
    "\n",
    "o Generate the following set of events in Python:\n",
    "▪ Simulate a new one time pin,\n",
    "▪ Then verify the user,\n",
    "▪ Then wait for 30 seconds\n",
    "▪ Then verify once more."
   ]
  },
  {
   "cell_type": "code",
   "execution_count": 18,
   "id": "4a2ddcbe-eadc-4aac-a5b4-117bcab9ad4f",
   "metadata": {
    "tags": []
   },
   "outputs": [
    {
     "name": "stdin",
     "output_type": "stream",
     "text": [
      "Enter your login password:  Victoria 1\n"
     ]
    },
    {
     "name": "stdout",
     "output_type": "stream",
     "text": [
      "Invalid password. Login denied.\n"
     ]
    }
   ],
   "source": [
    "import re\n",
    "\n",
    "def validate_login_password(password):\n",
    "    \n",
    "    if re.match(r'^(?=.*[a-zA-Z].*[a-zA-Z])(?=.*\\d)[a-zA-Z\\d]{8,12}$', password) and \\\n",
    "            sum(c.isalpha() for c in password) >= 2 and ' ' not in password:\n",
    "        return True\n",
    "    else:\n",
    "        return False\n",
    "\n",
    "# User enters a password for login\n",
    "user_input_password = input(\"Enter your login password: \")\n",
    "\n",
    "# Validate the entered password\n",
    "if validate_login_password(user_input_password):\n",
    "    print(\"Password is valid. Login successful.\")\n",
    "else:\n",
    "    print(\"Invalid password. Login denied.\")\n"
   ]
  },
  {
   "cell_type": "code",
   "execution_count": 25,
   "id": "224610f7-7c28-4f71-ba89-5abfd3cc5f4c",
   "metadata": {
    "tags": []
   },
   "outputs": [
    {
     "name": "stdin",
     "output_type": "stream",
     "text": [
      "Enter your login username:  admin\n",
      "Enter your login password:  Test1234\n"
     ]
    },
    {
     "name": "stdout",
     "output_type": "stream",
     "text": [
      "Invalid credentials. Login denied.\n"
     ]
    }
   ],
   "source": [
    "from cryptography.fernet import Fernet\n",
    "\n",
    "# Generate a key for encryption and decryption\n",
    "key = Fernet.generate_key()\n",
    "cipher_suite = Fernet(key)\n",
    "\n",
    "def encrypt(data):\n",
    "    return cipher_suite.encrypt(data.encode())\n",
    "\n",
    "def decrypt(data):\n",
    "    return cipher_suite.decrypt(data).decode()\n",
    "\n",
    "# Assume stored encrypted password for the user 'admin' is the encryption of 'Test1234'\n",
    "stored_encrypted_password = encrypt(\"Test1234\").decode()\n",
    "\n",
    "def validate_login_credentials(username, entered_password):\n",
    "    if username == \"admin\":\n",
    "        entered_encrypted_password = encrypt(entered_password).decode()\n",
    "        return entered_encrypted_password == stored_encrypted_password\n",
    "    else:\n",
    "        return False\n",
    "\n",
    "# User enters a username and password for login\n",
    "user_input_username = input(\"Enter your login username: \")\n",
    "user_input_password = input(\"Enter your login password: \")\n",
    "\n",
    "# Validate the entered credentials\n",
    "if validate_login_credentials(user_input_username, user_input_password):\n",
    "    print(\"Login successful.\")\n",
    "else:\n",
    "    print(\"Invalid credentials. Login denied.\")\n"
   ]
  },
  {
   "cell_type": "code",
   "execution_count": 13,
   "id": "0485f682-0b58-48c6-8ab8-a573a32390c6",
   "metadata": {
    "tags": []
   },
   "outputs": [
    {
     "name": "stdout",
     "output_type": "stream",
     "text": [
      "Requirement already satisfied: cryptography in c:\\users\\walea\\anaconda3\\lib\\site-packages (41.0.3)\n",
      "Requirement already satisfied: cffi>=1.12 in c:\\users\\walea\\anaconda3\\lib\\site-packages (from cryptography) (1.15.1)\n",
      "Requirement already satisfied: pycparser in c:\\users\\walea\\anaconda3\\lib\\site-packages (from cffi>=1.12->cryptography) (2.21)\n",
      "Note: you may need to restart the kernel to use updated packages.\n"
     ]
    }
   ],
   "source": [
    "pip install cryptography"
   ]
  },
  {
   "cell_type": "code",
   "execution_count": 20,
   "id": "45f496c3-2fd2-4cb5-bd83-549cecac056c",
   "metadata": {
    "tags": []
   },
   "outputs": [
    {
     "name": "stdin",
     "output_type": "stream",
     "text": [
      "Enter your login username:  victoria\n",
      "Enter your login password:  Victoria1234\n"
     ]
    },
    {
     "name": "stdout",
     "output_type": "stream",
     "text": [
      "Login successful.\n",
      "Decrypted Password: Victoria1234\n"
     ]
    }
   ],
   "source": [
    "import re\n",
    "from cryptography.fernet import Fernet\n",
    "\n",
    "# Key generation for encryption and decryption\n",
    "key = Fernet.generate_key()\n",
    "cipher_suite = Fernet(key)\n",
    "\n",
    "def encrypt(data):\n",
    "    return cipher_suite.encrypt(data.encode())\n",
    "\n",
    "def decrypt(data):\n",
    "    return cipher_suite.decrypt(data).decode()\n",
    "\n",
    "def validate_login_credentials(username, password):\n",
    "    # Criteria: Capital and lowercase letters, a number, 8 to 12 characters\n",
    "    # Condition: At least 2 capital or lowercase letters\n",
    "    # Restriction: No spaces allowed\n",
    "    if re.match(r'^(?=.*[a-zA-Z].*[a-zA-Z])(?=.*\\d)[a-zA-Z\\d]{8,12}$', password) and \\\n",
    "            sum(c.isalpha() for c in password) >= 2 and ' ' not in password:\n",
    "        return True\n",
    "    else:\n",
    "        return False\n",
    "\n",
    "# User enters a username and password for login\n",
    "user_input_username = input(\"Enter your login username: \")\n",
    "user_input_password = input(\"Enter your login password: \")\n",
    "\n",
    "# Encrypt the entered password\n",
    "encrypted_password = encrypt(user_input_password)\n",
    "\n",
    "# Validate the entered credentials\n",
    "if validate_login_credentials(user_input_username, user_input_password):\n",
    "    print(\"Login successful.\")\n",
    "else:\n",
    "    print(\"Invalid credentials. Login denied.\")\n",
    "\n",
    "# Demonstrate decryption (for illustration purposes)\n",
    "decrypted_password = decrypt(encrypted_password)\n",
    "print(\"Decrypted Password:\", decrypted_password)\n"
   ]
  },
  {
   "cell_type": "code",
   "execution_count": 41,
   "id": "2879a524-9b7c-4e75-829e-a2355fac29dd",
   "metadata": {
    "tags": []
   },
   "outputs": [
    {
     "name": "stdout",
     "output_type": "stream",
     "text": [
      "Collecting pyotpNote: you may need to restart the kernel to use updated packages.\n",
      "\n",
      "  Obtaining dependency information for pyotp from https://files.pythonhosted.org/packages/c3/c0/c33c8792c3e50193ef55adb95c1c3c2786fe281123291c2dbf0eaab95a6f/pyotp-2.9.0-py3-none-any.whl.metadata\n",
      "  Downloading pyotp-2.9.0-py3-none-any.whl.metadata (9.8 kB)\n",
      "Downloading pyotp-2.9.0-py3-none-any.whl (13 kB)\n",
      "Installing collected packages: pyotp\n",
      "Successfully installed pyotp-2.9.0\n"
     ]
    }
   ],
   "source": [
    "pip install pyotp"
   ]
  },
  {
   "cell_type": "code",
   "execution_count": 16,
   "id": "27c4f1a6-c665-473f-8089-364ed59c968b",
   "metadata": {
    "tags": []
   },
   "outputs": [
    {
     "name": "stdout",
     "output_type": "stream",
     "text": [
      "Generated OTP: 630985\n"
     ]
    },
    {
     "name": "stdin",
     "output_type": "stream",
     "text": [
      "Enter the OTP to verify:  630985\n"
     ]
    },
    {
     "name": "stdout",
     "output_type": "stream",
     "text": [
      "Verification successful.\n",
      "\n",
      "Generated New OTP: 662638\n"
     ]
    },
    {
     "name": "stdin",
     "output_type": "stream",
     "text": [
      "Enter the new OTP to verify:  663638\n"
     ]
    },
    {
     "name": "stdout",
     "output_type": "stream",
     "text": [
      "Invalid OTP. Verification failed.\n"
     ]
    }
   ],
   "source": [
    "import pyotp\n",
    "import time\n",
    "\n",
    "# Generate a secret key for TOTP\n",
    "secret_key = pyotp.random_base32()\n",
    "totp = pyotp.TOTP(secret_key, interval=25)\n",
    "\n",
    "# Simulate a new one-time pin (OTP)\n",
    "otp = totp.now()\n",
    "print(f\"Generated OTP: {otp}\")\n",
    "\n",
    "# Simulate verifying the user with the OTP\n",
    "user_input_otp = input(\"Enter the OTP to verify: \")\n",
    "\n",
    "if totp.verify(user_input_otp):\n",
    "    print(\"Verification successful.\")\n",
    "else:\n",
    "    print(\"Invalid OTP. Verification failed.\")\n",
    "\n",
    "# Wait for 30 seconds\n",
    "time.sleep(30)\n",
    "\n",
    "# Simulate generating a new OTP after waiting\n",
    "new_otp = totp.now()\n",
    "print(f\"\\nGenerated New OTP: {new_otp}\")\n",
    "\n",
    "# Simulate verifying the user with the new OTP\n",
    "user_input_new_otp = input(\"Enter the new OTP to verify: \")\n",
    "\n",
    "if totp.verify(user_input_new_otp):\n",
    "    print(\"Verification successful.\")\n",
    "else:\n",
    "    print(\"Invalid OTP. Verification failed.\")\n"
   ]
  },
  {
   "cell_type": "code",
   "execution_count": null,
   "id": "969d0166-973c-4f37-a02b-422a4d5d0c72",
   "metadata": {},
   "outputs": [],
   "source": []
  }
 ],
 "metadata": {
  "kernelspec": {
   "display_name": "Python 3 (ipykernel)",
   "language": "python",
   "name": "python3"
  },
  "language_info": {
   "codemirror_mode": {
    "name": "ipython",
    "version": 3
   },
   "file_extension": ".py",
   "mimetype": "text/x-python",
   "name": "python",
   "nbconvert_exporter": "python",
   "pygments_lexer": "ipython3",
   "version": "3.11.5"
  }
 },
 "nbformat": 4,
 "nbformat_minor": 5
}
